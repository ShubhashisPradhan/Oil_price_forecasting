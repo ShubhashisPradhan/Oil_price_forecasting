{
  "nbformat": 4,
  "nbformat_minor": 0,
  "metadata": {
    "colab": {
      "provenance": []
    },
    "kernelspec": {
      "name": "python3",
      "display_name": "Python 3"
    },
    "language_info": {
      "name": "python"
    }
  },
  "cells": [
    {
      "cell_type": "code",
      "execution_count": null,
      "metadata": {
        "colab": {
          "base_uri": "https://localhost:8080/"
        },
        "id": "AqWRFtLBRQUv",
        "outputId": "885b9a80-d5dc-4975-f5a5-fdde60b391c1"
      },
      "outputs": [
        {
          "output_type": "stream",
          "name": "stdout",
          "text": [
            "Overwriting G4_p295_oil_price_prediction.py\n"
          ]
        }
      ],
      "source": [
        "%%writefile G4_p295_oil_price_prediction.py\n",
        "\n",
        "import pickle\n",
        "import streamlit as st\n",
        "import pandas as pd\n",
        "import prophet\n",
        "import matplotlib.pyplot as plt\n",
        "from prophet.serialize import model_to_json, model_from_json\n",
        "\n",
        "# loading the trained model\n",
        "\n",
        "#pickle_in = open('prophet_model.pkl', 'rb')\n",
        "#pred_price = pickle.load(pickle_in)\n",
        "with open('serialized_model.json', 'r') as fin:\n",
        "    m = model_from_json(fin.read())  # Load model\n",
        "\n",
        "\n",
        "\n",
        "@st.cache_data()\n",
        "\n",
        "def prediction(date,price,Volume,High,Low):\n",
        "    predictions=0\n",
        "    df=pd.DataFrame({'ds':pd.to_datetime(date),'price':[price]\t,'Volume':[Volume],'High':[High],\t'Low':[Low]})\n",
        "    predictions=m.predict(df)\n",
        "    pred=predictions[['ds','yhat','yhat_lower','yhat_upper']]\n",
        "    return pred.yhat[0]\n",
        "\n",
        "# this is the main function in which we define our webpage\n",
        "def main():\n",
        "    # front end elements of the web page\n",
        "    html_temp = \"\"\"           OIL PRICE PREDICTION             \"\"\"\n",
        "\n",
        "    # display the front end aspect\n",
        "    st.markdown(html_temp, unsafe_allow_html = True)\n",
        "\n",
        "    # following lines create boxes in which user can enter data required to make prediction\n",
        "    date = st.sidebar.date_input(\"Choose a start date\", pd.to_datetime('2020-01-01'))\n",
        "    price = st.number_input(\"last price (last trading price) :\")\n",
        "    Volume = st.number_input(\"volume of oil expected to be trade :\")\n",
        "    High = st.number_input(\"price (upper limit of yester day) :\")\n",
        "    Low = st.number_input(\"price (lower limit of yester day) :\")\n",
        "\n",
        "    result =\"\"\n",
        "\n",
        "    # when 'Predict' is clicked, make the prediction and store it\n",
        "    if st.button(\"Predict\"):\n",
        "        result= prediction(date,price,Volume,High,Low)\n",
        "        st.success('{}'.format(result))\n",
        "\n",
        "    loaded_file = st.file_uploader(\"Upload a CSV file\", type=[\"csv\"])\n",
        "    if loaded_file is not None:\n",
        "      data = pd.read_csv(loaded_file)\n",
        "      st.write(\"Uploaded Data:\")\n",
        "      st.write(data)\n",
        "      temp=data.copy()\n",
        "      data=data.iloc[:,[0,2,3,4,5]]\n",
        "      data=data.rename({'Date':'ds','Open':'price'},axis=1)\n",
        "      #data.head()\n",
        "\n",
        "      #plotting\n",
        "      st.title(\"Data Visualization\")\n",
        "      fig, ax = plt.subplots()\n",
        "      data.drop(['ds'],axis=1).plot(subplots=True,ax=ax)\n",
        "      st.pyplot(fig)\n",
        "\n",
        "      #st.write()\n",
        "\n",
        "      forecast1=m.predict(data)\n",
        "      data['predicted']=forecast1[['yhat']]\n",
        "      #forecast1\n",
        "      st.write(data)\n",
        "      fig, axes = plt.subplots(figsize=(16, 6))\n",
        "      axes.plot(temp['ds'],temp['y'],color='red',label='predicted')\n",
        "      axes.plot(data['ds'],data['predicted'],color='blue',label='actual')\n",
        "      axes.legend()\n",
        "      st.pyplot(fig)\n",
        "\n",
        "if __name__=='__main__':\n",
        "    main()\n"
      ]
    }
  ]
}